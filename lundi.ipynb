{
 "cells": [
  {
   "cell_type": "markdown",
   "id": "fabf6df7",
   "metadata": {},
   "source": [
    "# EXERCICE 9"
   ]
  },
  {
   "cell_type": "code",
   "execution_count": 1,
   "id": "01b784d2",
   "metadata": {},
   "outputs": [
    {
     "name": "stdout",
     "output_type": "stream",
     "text": [
      "2\n"
     ]
    }
   ],
   "source": [
    "c=\"merci Mr Niang\"\n",
    "ni=0\n",
    "for i in c:\n",
    "    if i==\"i\":\n",
    "        ni=ni+1\n",
    "print(ni)"
   ]
  },
  {
   "cell_type": "markdown",
   "id": "76d46f16",
   "metadata": {},
   "source": [
    "# EXERCICE  2"
   ]
  },
  {
   "cell_type": "code",
   "execution_count": 124,
   "id": "006a377b",
   "metadata": {},
   "outputs": [
    {
     "name": "stdout",
     "output_type": "stream",
     "text": [
      "le mot sidi va a l'ecole possède 7 voyelles\n"
     ]
    }
   ],
   "source": [
    "f=\"sidi va a l'ecole\"\n",
    "n=len(f)\n",
    "nbvoyelle=0\n",
    "for i in range(0,n):\n",
    "    if f[i]in ['i','o','e','a','u']:\n",
    "        nbvoyelle+=1\n",
    "print('le mot',f,'possède',nbvoyelle,'voyelles')"
   ]
  },
  {
   "cell_type": "markdown",
   "id": "8ee4e988",
   "metadata": {},
   "source": [
    "# EXERCICE 5"
   ]
  },
  {
   "cell_type": "code",
   "execution_count": 129,
   "id": "e752ced1",
   "metadata": {},
   "outputs": [
    {
     "name": "stdout",
     "output_type": "stream",
     "text": [
      "['falou,moussa,abdou,thierno,khadim', 'fama,mbene,aby,absa,zeyna']\n"
     ]
    }
   ],
   "source": [
    "hom_list=[\"falou,moussa,abdou,thierno,khadim\"]\n",
    "fem_list=[\"fama,mbene,aby,absa,zeyna\"]\n",
    "som=hom_list+fem_list\n",
    "print(som)"
   ]
  },
  {
   "cell_type": "markdown",
   "id": "846a7038",
   "metadata": {},
   "source": [
    "# EXERCICE 10"
   ]
  },
  {
   "cell_type": "code",
   "execution_count": 3,
   "id": "28555928",
   "metadata": {},
   "outputs": [
    {
     "name": "stdout",
     "output_type": "stream",
     "text": [
      "['devoir', 'a', 'rendre', 'lundi']\n"
     ]
    }
   ],
   "source": [
    "fat = \" devoir a rendre lundi\"\n",
    "print(fat.split())"
   ]
  },
  {
   "cell_type": "markdown",
   "id": "9538d808",
   "metadata": {},
   "source": [
    "# EXERCICE  1"
   ]
  },
  {
   "cell_type": "code",
   "execution_count": 149,
   "id": "a9a6f3c3",
   "metadata": {},
   "outputs": [
    {
     "data": {
      "text/plain": [
       "37"
      ]
     },
     "execution_count": 149,
     "metadata": {},
     "output_type": "execute_result"
    }
   ],
   "source": [
    "f=\"les apprenant de APD sont intelligent\"\n",
    "len(f)"
   ]
  },
  {
   "cell_type": "markdown",
   "id": "a0f4664d",
   "metadata": {},
   "source": [
    "# EXERCICE 8"
   ]
  },
  {
   "cell_type": "code",
   "execution_count": 157,
   "id": "f9d7f6dd",
   "metadata": {},
   "outputs": [
    {
     "name": "stdout",
     "output_type": "stream",
     "text": [
      "7\n",
      "14\n",
      "21\n",
      "28\n",
      "35\n",
      "42\n",
      "49\n",
      "56\n",
      "63\n",
      "70\n",
      "77\n",
      "84\n",
      "91\n",
      "98\n"
     ]
    }
   ],
   "source": [
    "i=1\n",
    "while i<100:\n",
    "    i=i+1\n",
    "    if i%7==0:\n",
    "        print(i)"
   ]
  },
  {
   "cell_type": "markdown",
   "id": "5e0885ff",
   "metadata": {},
   "source": [
    "# EXERCICE 6"
   ]
  },
  {
   "cell_type": "code",
   "execution_count": 103,
   "id": "e22f0cb9",
   "metadata": {},
   "outputs": [
    {
     "name": "stdout",
     "output_type": "stream",
     "text": [
      "le plus petit element est:  3\n"
     ]
    }
   ],
   "source": [
    "liste=[10,3,7,12,20]\n",
    "def Minlist(liste):\n",
    "    minimun=liste[0]\n",
    "    for x in liste:\n",
    "        if x < minimun:\n",
    "            minimun=x\n",
    "            return minimun\n",
    "print(\"le plus petit element est: \",Minlist(liste))"
   ]
  },
  {
   "cell_type": "markdown",
   "id": "b57bb37b",
   "metadata": {},
   "source": [
    "# EXERCICE 7"
   ]
  },
  {
   "cell_type": "code",
   "execution_count": 121,
   "id": "4704efe7",
   "metadata": {},
   "outputs": [
    {
     "name": "stdout",
     "output_type": "stream",
     "text": [
      "le plus petit element est:  3\n",
      "le plus grand est element:  12\n"
     ]
    }
   ],
   "source": [
    "liste=[10,3,7,12,]\n",
    "def Minlist(liste):\n",
    "    minimun=liste[0]\n",
    "    Maxlist(liste)\n",
    "    maximun=liste[0]\n",
    "    for x in liste:\n",
    "        if x < minimun:\n",
    "            minimun=x\n",
    "            return minimun\n",
    "    for y in liste:\n",
    "        if y > maximun:\n",
    "            maximun=y\n",
    "            return maximun\n",
    "print(\"le plus petit element est: \",Minlist(liste))\n",
    "print(\"le plus grand est element: \",Maxlist(liste))\n"
   ]
  },
  {
   "cell_type": "markdown",
   "id": "5d8b2cfd",
   "metadata": {},
   "source": [
    "# EXERCICE 4"
   ]
  },
  {
   "cell_type": "code",
   "execution_count": 139,
   "id": "61a1ab6d",
   "metadata": {},
   "outputs": [
    {
     "name": "stdout",
     "output_type": "stream",
     "text": [
      "la liste des nombre pair est:   [2, 4, 6, 8, 10]\n",
      "la liste des nombre impair est:   [1, 3, 5, 7, 9]\n",
      "None\n"
     ]
    }
   ],
   "source": [
    "def extract(l):\n",
    "    pair=[]\n",
    "    impair=[]\n",
    "    for a in l:\n",
    "        if a%2==0:\n",
    "            pair.append(a)\n",
    "        else:\n",
    "                impair.append(a)\n",
    "    print(\"la liste des nombre pair est:  \",pair)\n",
    "    print(\"la liste des nombre impair est:  \",impair)\n",
    "l=[1,2,3,4,5,6,7,8,9,10]\n",
    "print(extract(l))"
   ]
  },
  {
   "cell_type": "markdown",
   "id": "6182f4fd",
   "metadata": {},
   "source": [
    "# EXERCICE  3"
   ]
  },
  {
   "cell_type": "code",
   "execution_count": 148,
   "id": "abd0eb5c",
   "metadata": {},
   "outputs": [
    {
     "name": "stdout",
     "output_type": "stream",
     "text": [
      "APD,GDE,DBE,RSIOT\n"
     ]
    }
   ],
   "source": [
    "filiere=(\"APD,GDE,DBE,RSIOT\")\n",
    "for i in filiere:\n",
    "    [filiere.replace(\"APD\",\"l'impossible n'est pas APD\")]\n",
    "print(filiere)\n",
    "    "
   ]
  },
  {
   "cell_type": "code",
   "execution_count": null,
   "id": "93f84c0d",
   "metadata": {},
   "outputs": [],
   "source": []
  },
  {
   "cell_type": "code",
   "execution_count": null,
   "id": "8b749d11",
   "metadata": {},
   "outputs": [],
   "source": []
  }
 ],
 "metadata": {
  "kernelspec": {
   "display_name": "Python 3",
   "language": "python",
   "name": "python3"
  },
  "language_info": {
   "codemirror_mode": {
    "name": "ipython",
    "version": 3
   },
   "file_extension": ".py",
   "mimetype": "text/x-python",
   "name": "python",
   "nbconvert_exporter": "python",
   "pygments_lexer": "ipython3",
   "version": "3.8.8"
  }
 },
 "nbformat": 4,
 "nbformat_minor": 5
}

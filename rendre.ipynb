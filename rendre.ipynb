{
 "cells": [
  {
   "cell_type": "markdown",
   "id": "515da865",
   "metadata": {},
   "source": [
    "# EXERCICE 1"
   ]
  },
  {
   "cell_type": "code",
   "execution_count": 21,
   "id": "015659d2",
   "metadata": {},
   "outputs": [],
   "source": [
    "def max(f,a,t):\n",
    "    if f>=a and f>=a:\n",
    "        print(f,'est le maximun')\n",
    "    elif a>=f and a>=t:\n",
    "        print(a,'est le maximun')\n",
    "    else:\n",
    "        print(t,'est le maximun')"
   ]
  },
  {
   "cell_type": "code",
   "execution_count": 22,
   "id": "2394acd9",
   "metadata": {},
   "outputs": [
    {
     "name": "stdout",
     "output_type": "stream",
     "text": [
      "76 est le maximun\n"
     ]
    }
   ],
   "source": [
    "max(23,45,76)"
   ]
  },
  {
   "cell_type": "markdown",
   "id": "a47f200d",
   "metadata": {},
   "source": [
    "# EXERCICE 2"
   ]
  },
  {
   "cell_type": "code",
   "execution_count": 9,
   "id": "270efa2d",
   "metadata": {},
   "outputs": [],
   "source": [
    "def alphabet():\n",
    "    alphabet=input(\"entrer une lettre: \")\n",
    "    if alphabet in ('a','o','u','e','i','y' or 'A','O','U','E','I','y'):\n",
    "        print(alphabet,'est une voyelle')\n",
    "    else:\n",
    "        print(alphabet,'est une consonne')\n"
   ]
  },
  {
   "cell_type": "code",
   "execution_count": 10,
   "id": "9641ddba",
   "metadata": {},
   "outputs": [
    {
     "name": "stdout",
     "output_type": "stream",
     "text": [
      "entrer une lettre: a\n",
      "a est une voyelle\n"
     ]
    }
   ],
   "source": [
    "alphabet()"
   ]
  },
  {
   "cell_type": "markdown",
   "id": "22973738",
   "metadata": {},
   "source": [
    "# EXERCICE 3"
   ]
  },
  {
   "cell_type": "code",
   "execution_count": 64,
   "id": "53157af6",
   "metadata": {},
   "outputs": [],
   "source": [
    "def semaine():\n",
    "    jour=int(input(\"donner le numero du jour:\"))\n",
    "    if(jour==1):\n",
    "            print(\"lundi\")\n",
    "    elif(jour==2):\n",
    "             print(\"mardi\")\n",
    "    elif(jour==3):\n",
    "             print(\"mercredi\")\n",
    "    elif(jour==4):\n",
    "             print(\"jeudi\")       \n",
    "    elif(jour==5):\n",
    "             print(\"vendredi\")\n",
    "    elif(jour==6):\n",
    "             print(\"samedi\") \n",
    "    elif(jour==7):\n",
    "             print(\"dimanche\")\n",
    "    else:\n",
    "             print(\"entrez n'existe pas ! entrez  le numero du jour entre 1 et 7\")"
   ]
  },
  {
   "cell_type": "code",
   "execution_count": 67,
   "id": "48448433",
   "metadata": {},
   "outputs": [
    {
     "name": "stdout",
     "output_type": "stream",
     "text": [
      "donner le numero du jour:4\n",
      "jeudi\n"
     ]
    }
   ],
   "source": [
    "semaine()"
   ]
  },
  {
   "cell_type": "markdown",
   "id": "cbdfacc0",
   "metadata": {},
   "source": [
    "# EXERCICE 4"
   ]
  },
  {
   "cell_type": "code",
   "execution_count": 68,
   "id": "ae44c5f5",
   "metadata": {},
   "outputs": [],
   "source": [
    "def prix(fa,ve):\n",
    "    if fa<ve:\n",
    "        print(fa,\"il ya profit\")\n",
    "    else:\n",
    "        print(ve,\"il ya perte\")   "
   ]
  },
  {
   "cell_type": "code",
   "execution_count": 42,
   "id": "283c34f7",
   "metadata": {},
   "outputs": [
    {
     "name": "stdout",
     "output_type": "stream",
     "text": [
      "1200 il ya perte\n"
     ]
    }
   ],
   "source": [
    "prix(2300,1200)"
   ]
  },
  {
   "cell_type": "markdown",
   "id": "8c9b5d11",
   "metadata": {},
   "source": [
    "# EXERCICE 5"
   ]
  },
  {
   "cell_type": "code",
   "execution_count": 38,
   "id": "cc7fee7d",
   "metadata": {},
   "outputs": [],
   "source": [
    "def bissextile(annee):\n",
    "    if(annee%4==0 and annee %100!=0 or annee%400==0):\n",
    "        print('l annee est une annee bissextile!')\n",
    "    else:\n",
    "        print(\"l'annee n'est pas bissextile!\")"
   ]
  },
  {
   "cell_type": "code",
   "execution_count": 40,
   "id": "8a5cc99a",
   "metadata": {},
   "outputs": [
    {
     "name": "stdout",
     "output_type": "stream",
     "text": [
      "l annee est une annee bissextile!\n"
     ]
    }
   ],
   "source": [
    "bissextile(2020)"
   ]
  },
  {
   "cell_type": "markdown",
   "id": "4925fa9c",
   "metadata": {},
   "source": [
    "# EXERCICE 6"
   ]
  },
  {
   "cell_type": "code",
   "execution_count": 33,
   "id": "be72dde9",
   "metadata": {},
   "outputs": [],
   "source": [
    "def triangle(a):\n",
    "    for i in range(1,a):\n",
    "        print(i*\"*\")"
   ]
  },
  {
   "cell_type": "code",
   "execution_count": 34,
   "id": "2fb19d40",
   "metadata": {},
   "outputs": [
    {
     "name": "stdout",
     "output_type": "stream",
     "text": [
      "*\n",
      "**\n",
      "***\n",
      "****\n",
      "*****\n",
      "******\n",
      "*******\n"
     ]
    }
   ],
   "source": [
    "triangle(8)"
   ]
  },
  {
   "cell_type": "markdown",
   "id": "eca3706f",
   "metadata": {},
   "source": [
    "# EXERCICE 7"
   ]
  },
  {
   "cell_type": "code",
   "execution_count": 91,
   "id": "4fed1664",
   "metadata": {},
   "outputs": [],
   "source": [
    "def voyelle():\n",
    "    n=len(f)\n",
    "    nbvoyelle=0\n",
    "    for i in range(0,n):\n",
    "        if f[i] in ['i','o','e','a','u']:\n",
    "            nbvoyelle+=1\n",
    "        print('le mot',f,'possède',nbvoyelle,'voyelles')"
   ]
  },
  {
   "cell_type": "code",
   "execution_count": 90,
   "id": "3baa26e2",
   "metadata": {},
   "outputs": [
    {
     "ename": "TypeError",
     "evalue": "voyelle() missing 1 required positional argument: 'f'",
     "output_type": "error",
     "traceback": [
      "\u001b[1;31m---------------------------------------------------------------------------\u001b[0m",
      "\u001b[1;31mTypeError\u001b[0m                                 Traceback (most recent call last)",
      "\u001b[1;32m<ipython-input-90-2b5b70b31814>\u001b[0m in \u001b[0;36m<module>\u001b[1;34m\u001b[0m\n\u001b[1;32m----> 1\u001b[1;33m \u001b[0mvoyelle\u001b[0m\u001b[1;33m(\u001b[0m\u001b[1;33m)\u001b[0m\u001b[1;33m\u001b[0m\u001b[1;33m\u001b[0m\u001b[0m\n\u001b[0m",
      "\u001b[1;31mTypeError\u001b[0m: voyelle() missing 1 required positional argument: 'f'"
     ]
    }
   ],
   "source": [
    "voyelle()"
   ]
  },
  {
   "cell_type": "markdown",
   "id": "1598187c",
   "metadata": {},
   "source": [
    "# EXERCICE 8"
   ]
  },
  {
   "cell_type": "code",
   "execution_count": 95,
   "id": "7d1827c3",
   "metadata": {},
   "outputs": [],
   "source": [
    "def affiche():\n",
    "    for i in range(1,18,3):\n",
    "        print(i)"
   ]
  },
  {
   "cell_type": "code",
   "execution_count": 96,
   "id": "eec491f8",
   "metadata": {},
   "outputs": [
    {
     "name": "stdout",
     "output_type": "stream",
     "text": [
      "1\n",
      "4\n",
      "7\n",
      "10\n",
      "13\n",
      "16\n"
     ]
    }
   ],
   "source": [
    "affiche()"
   ]
  },
  {
   "cell_type": "markdown",
   "id": "ed9a810b",
   "metadata": {},
   "source": [
    "# EXERCICE 9"
   ]
  },
  {
   "cell_type": "code",
   "execution_count": 115,
   "id": "b854f328",
   "metadata": {},
   "outputs": [],
   "source": [
    "def calcul():\n",
    "    nbr_note=10\n",
    "    note_max=0\n",
    "    note_min=20\n",
    "    som_note=0\n",
    "    for i in range(1,11):\n",
    "        print(\"entrer la valeur N°: \",i)\n",
    "    note_saisi=float(input())\n",
    "    while note_saisi >20 or note_saisi <0:\n",
    "        print(\"entrer la valeur N°: \",i)\n",
    "        note_saisi = float(input())\n",
    "        som_note += note_saisi\n",
    "    if note_min > note_saisi:\n",
    "        note_min = note_saisi\n",
    "    if note_max < note_saisi:\n",
    "        note_max = note_saisi\n",
    "        moyenne=note_saisi/nbr_note\n",
    "        print(\"la moyenne est: \",moyenne)\n",
    "        print(\"la note minimal: \",note_min)\n",
    "        print(\"la note maximal: \",note_max)"
   ]
  },
  {
   "cell_type": "code",
   "execution_count": 116,
   "id": "1a26a7c6",
   "metadata": {},
   "outputs": [
    {
     "name": "stdout",
     "output_type": "stream",
     "text": [
      "entrer la valeur N°:  1\n",
      "entrer la valeur N°:  2\n",
      "entrer la valeur N°:  3\n",
      "entrer la valeur N°:  4\n",
      "entrer la valeur N°:  5\n",
      "entrer la valeur N°:  6\n",
      "entrer la valeur N°:  7\n",
      "entrer la valeur N°:  8\n",
      "entrer la valeur N°:  9\n",
      "entrer la valeur N°:  10\n",
      "6\n",
      "la moyenne est:  0.6\n",
      "la note minimal:  6.0\n",
      "la note maximal:  6.0\n"
     ]
    }
   ],
   "source": [
    "calcul()"
   ]
  },
  {
   "cell_type": "markdown",
   "id": "f2834505",
   "metadata": {},
   "source": [
    "# EXERCICE 10"
   ]
  },
  {
   "cell_type": "code",
   "execution_count": 17,
   "id": "5365467d",
   "metadata": {},
   "outputs": [],
   "source": [
    "def question():\n",
    "        print(\"bonjour\")\n",
    "        input(\"repond:\")\n",
    "        print(\"est tu adulte\")\n",
    "        a=input(\"repond: \")\n",
    "        if a!=\"oui\" and a!=\"non\":\n",
    "            print(\"repondez par oui ou non please\")\n",
    "        print(\"au revoir\")"
   ]
  },
  {
   "cell_type": "code",
   "execution_count": 19,
   "id": "f868f851",
   "metadata": {},
   "outputs": [
    {
     "name": "stdout",
     "output_type": "stream",
     "text": [
      "bonjour\n",
      "repond:salut\n",
      "est tu adulte\n",
      "repond: non\n",
      "au revoir\n"
     ]
    }
   ],
   "source": [
    " question()"
   ]
  },
  {
   "cell_type": "code",
   "execution_count": null,
   "id": "9ea2dbed",
   "metadata": {
    "collapsed": true
   },
   "outputs": [],
   "source": []
  },
  {
   "cell_type": "markdown",
   "id": "1bde671a",
   "metadata": {},
   "source": [
    "# EXERCICE 11"
   ]
  },
  {
   "cell_type": "code",
   "execution_count": 1,
   "id": "e93f235c",
   "metadata": {},
   "outputs": [],
   "source": [
    "def tantative():\n",
    "    import random\n",
    "    n=random.randint(1,100)\n",
    "    nombretantative<5\n",
    "    while nombretantative>0:\n",
    "            nombretantative -=1\n",
    "    var=int(input(\"entrez un nombre\"))\n",
    "    if var<n:\n",
    "        print(\"tres petit!\")\n",
    "    elif var>n:\n",
    "            print(\"plus grand!\")\n",
    "    else:\n",
    "            print(\"tu as gagner\")"
   ]
  },
  {
   "cell_type": "code",
   "execution_count": 133,
   "id": "379bbbd8",
   "metadata": {},
   "outputs": [
    {
     "name": "stdout",
     "output_type": "stream",
     "text": [
      "entrez un nombre48\n",
      "plus grand!\n"
     ]
    }
   ],
   "source": [
    "tantative()"
   ]
  },
  {
   "cell_type": "code",
   "execution_count": 40,
   "id": "a3fc4743",
   "metadata": {},
   "outputs": [
    {
     "ename": "TypeError",
     "evalue": "tantative() takes 0 positional arguments but 1 was given",
     "output_type": "error",
     "traceback": [
      "\u001b[1;31m---------------------------------------------------------------------------\u001b[0m",
      "\u001b[1;31mTypeError\u001b[0m                                 Traceback (most recent call last)",
      "\u001b[1;32m<ipython-input-40-557c70ab14ba>\u001b[0m in \u001b[0;36m<module>\u001b[1;34m\u001b[0m\n\u001b[1;32m----> 1\u001b[1;33m \u001b[0mtantative\u001b[0m\u001b[1;33m(\u001b[0m\u001b[1;36m48\u001b[0m\u001b[1;33m)\u001b[0m\u001b[1;33m\u001b[0m\u001b[1;33m\u001b[0m\u001b[0m\n\u001b[0m",
      "\u001b[1;31mTypeError\u001b[0m: tantative() takes 0 positional arguments but 1 was given"
     ]
    }
   ],
   "source": []
  },
  {
   "cell_type": "markdown",
   "id": "1df50ef4",
   "metadata": {},
   "source": []
  },
  {
   "cell_type": "code",
   "execution_count": null,
   "id": "e42a6afe",
   "metadata": {},
   "outputs": [],
   "source": []
  },
  {
   "cell_type": "code",
   "execution_count": null,
   "id": "25591afb",
   "metadata": {},
   "outputs": [],
   "source": []
  },
  {
   "cell_type": "markdown",
   "id": "ff22a57b",
   "metadata": {},
   "source": [
    "# EXERCICE 12"
   ]
  },
  {
   "cell_type": "code",
   "execution_count": 131,
   "id": "fdd1dcc8",
   "metadata": {},
   "outputs": [
    {
     "ename": "SyntaxError",
     "evalue": "invalid syntax (<ipython-input-131-9c3812926eff>, line 3)",
     "output_type": "error",
     "traceback": [
      "\u001b[1;36m  File \u001b[1;32m\"<ipython-input-131-9c3812926eff>\"\u001b[1;36m, line \u001b[1;32m3\u001b[0m\n\u001b[1;33m    b==int(input(\"entrez un nombre:b \" )\u001b[0m\n\u001b[1;37m    ^\u001b[0m\n\u001b[1;31mSyntaxError\u001b[0m\u001b[1;31m:\u001b[0m invalid syntax\n"
     ]
    }
   ],
   "source": [
    "def PGDC():\n",
    "     a=int(input(\"entrez un nombre:a \" )\n",
    "     b==int(input(\"entrez un nombre:b \" )  \n",
    "          if a>b:\n",
    "          max=b\n",
    "          else:\n",
    "          max=a\n",
    "          for i in range(1,min+1):\n",
    "          if a%i==0 and b%i==0:\n",
    "          PGDC=i\n",
    "              print(\"le PGDC de\",a,\"et\",b,\"est:\",PGDC)"
   ]
  },
  {
   "cell_type": "code",
   "execution_count": 122,
   "id": "9d49019e",
   "metadata": {},
   "outputs": [
    {
     "ename": "NameError",
     "evalue": "name 'a' is not defined",
     "output_type": "error",
     "traceback": [
      "\u001b[1;31m---------------------------------------------------------------------------\u001b[0m",
      "\u001b[1;31mNameError\u001b[0m                                 Traceback (most recent call last)",
      "\u001b[1;32m<ipython-input-122-6305035021e6>\u001b[0m in \u001b[0;36m<module>\u001b[1;34m\u001b[0m\n\u001b[1;32m----> 1\u001b[1;33m \u001b[0mPGDC\u001b[0m\u001b[1;33m(\u001b[0m\u001b[1;33m)\u001b[0m\u001b[1;33m\u001b[0m\u001b[1;33m\u001b[0m\u001b[0m\n\u001b[0m",
      "\u001b[1;32m<ipython-input-53-bcfab3334b41>\u001b[0m in \u001b[0;36mPGDC\u001b[1;34m()\u001b[0m\n\u001b[0;32m      1\u001b[0m \u001b[1;32mdef\u001b[0m \u001b[0mPGDC\u001b[0m\u001b[1;33m(\u001b[0m\u001b[1;33m)\u001b[0m\u001b[1;33m:\u001b[0m\u001b[1;33m\u001b[0m\u001b[1;33m\u001b[0m\u001b[0m\n\u001b[1;32m----> 2\u001b[1;33m     \u001b[1;32mif\u001b[0m \u001b[0ma\u001b[0m\u001b[1;33m>\u001b[0m\u001b[0mb\u001b[0m\u001b[1;33m:\u001b[0m\u001b[1;33m\u001b[0m\u001b[1;33m\u001b[0m\u001b[0m\n\u001b[0m\u001b[0;32m      3\u001b[0m         \u001b[0mmax\u001b[0m\u001b[1;33m=\u001b[0m\u001b[0mb\u001b[0m\u001b[1;33m\u001b[0m\u001b[1;33m\u001b[0m\u001b[0m\n\u001b[0;32m      4\u001b[0m     \u001b[1;32melse\u001b[0m\u001b[1;33m:\u001b[0m\u001b[1;33m\u001b[0m\u001b[1;33m\u001b[0m\u001b[0m\n\u001b[0;32m      5\u001b[0m         \u001b[0mmax\u001b[0m\u001b[1;33m=\u001b[0m\u001b[0ma\u001b[0m\u001b[1;33m\u001b[0m\u001b[1;33m\u001b[0m\u001b[0m\n",
      "\u001b[1;31mNameError\u001b[0m: name 'a' is not defined"
     ]
    }
   ],
   "source": [
    "PGDC()"
   ]
  },
  {
   "cell_type": "markdown",
   "id": "995f0228",
   "metadata": {},
   "source": [
    "# EXERCICE 13"
   ]
  },
  {
   "cell_type": "code",
   "execution_count": 54,
   "id": "c0348bb2",
   "metadata": {},
   "outputs": [],
   "source": [
    "def affiche():\n",
    "    for i in range(10):\n",
    "        print(i,end=\"     \")\n",
    "    for j in range (10):\n",
    "        print(j,end=\"     \")\n",
    "        print()\n",
    "    "
   ]
  },
  {
   "cell_type": "code",
   "execution_count": 56,
   "id": "0626dfd6",
   "metadata": {},
   "outputs": [
    {
     "name": "stdout",
     "output_type": "stream",
     "text": [
      "0     1     2     3     4     5     6     7     8     9     0   \n",
      "1   \n",
      "2   \n",
      "3   \n",
      "4   \n",
      "5   \n",
      "6   \n",
      "7   \n",
      "8   \n",
      "9   \n"
     ]
    }
   ],
   "source": [
    "affiche()"
   ]
  },
  {
   "cell_type": "markdown",
   "id": "c4357c19",
   "metadata": {},
   "source": [
    "# EXERCICE 14"
   ]
  },
  {
   "cell_type": "code",
   "execution_count": 57,
   "id": "eb9a1363",
   "metadata": {},
   "outputs": [],
   "source": [
    "def somme (a,b,c,d):\n",
    "    s=a+b+c+d\n",
    "    print(s)"
   ]
  },
  {
   "cell_type": "code",
   "execution_count": 58,
   "id": "b775fecc",
   "metadata": {},
   "outputs": [
    {
     "name": "stdout",
     "output_type": "stream",
     "text": [
      "63\n"
     ]
    }
   ],
   "source": [
    "somme(12,23,24,4)"
   ]
  },
  {
   "cell_type": "markdown",
   "id": "a531d87f",
   "metadata": {},
   "source": [
    "# EXERCICE 15"
   ]
  },
  {
   "cell_type": "code",
   "execution_count": 69,
   "id": "d1439a3a",
   "metadata": {},
   "outputs": [],
   "source": [
    "def carr():\n",
    "    s=0\n",
    "    for i in range(1,10):\n",
    "        carr=i*i\n",
    "    s=s+ carr\n",
    "    print(i,\"son carre est\",carr)\n",
    "    print(s,\"la somme des carres des membres compris entre 1 et 10\")"
   ]
  },
  {
   "cell_type": "code",
   "execution_count": 70,
   "id": "9bde29b8",
   "metadata": {},
   "outputs": [
    {
     "name": "stdout",
     "output_type": "stream",
     "text": [
      "9 son carre est 81\n",
      "81 la somme des carres des membres compris entre 1 et 10\n"
     ]
    }
   ],
   "source": [
    "carr()"
   ]
  },
  {
   "cell_type": "markdown",
   "id": "bef2b920",
   "metadata": {},
   "source": [
    "# EXERCICE 16"
   ]
  },
  {
   "cell_type": "code",
   "execution_count": 77,
   "id": "1ac0a59f",
   "metadata": {},
   "outputs": [],
   "source": [
    "def divisible():\n",
    "    i=1\n",
    "    while i<150:\n",
    "        i=i+1\n",
    "    if i%7==0:\n",
    "        print(i)"
   ]
  },
  {
   "cell_type": "code",
   "execution_count": 27,
   "id": "00de6788",
   "metadata": {},
   "outputs": [
    {
     "ename": "NameError",
     "evalue": "name 'divisible' is not defined",
     "output_type": "error",
     "traceback": [
      "\u001b[1;31m---------------------------------------------------------------------------\u001b[0m",
      "\u001b[1;31mNameError\u001b[0m                                 Traceback (most recent call last)",
      "\u001b[1;32m<ipython-input-27-b5bcbc12f5c2>\u001b[0m in \u001b[0;36m<module>\u001b[1;34m\u001b[0m\n\u001b[1;32m----> 1\u001b[1;33m \u001b[0mdivisible\u001b[0m\u001b[1;33m(\u001b[0m\u001b[1;33m)\u001b[0m\u001b[1;33m\u001b[0m\u001b[1;33m\u001b[0m\u001b[0m\n\u001b[0m",
      "\u001b[1;31mNameError\u001b[0m: name 'divisible' is not defined"
     ]
    }
   ],
   "source": [
    "divisible()"
   ]
  },
  {
   "cell_type": "markdown",
   "id": "dd945afd",
   "metadata": {},
   "source": [
    "# EXERCICE 17"
   ]
  },
  {
   "cell_type": "code",
   "execution_count": 78,
   "id": "80a541ea",
   "metadata": {},
   "outputs": [],
   "source": [
    "def naturel():\n",
    "    i=1\n",
    "    while i*i<=1000:\n",
    "        i+=1\n"
   ]
  },
  {
   "cell_type": "code",
   "execution_count": 79,
   "id": "3ae10a52",
   "metadata": {},
   "outputs": [],
   "source": [
    "naturel()"
   ]
  },
  {
   "cell_type": "markdown",
   "id": "2fa74d02",
   "metadata": {},
   "source": [
    "# EXERCICE 18"
   ]
  },
  {
   "cell_type": "code",
   "execution_count": 119,
   "id": "d1919c34",
   "metadata": {},
   "outputs": [],
   "source": [
    "def armstrong(n):\n",
    "    for i in range(1000):\n",
    "        num=i\n",
    "    result=0\n",
    "    while(i!=0):\n",
    "            digit=i%10\n",
    "            result=result+digit**n\n",
    "            i=i//10\n",
    "    if num==result:\n",
    "        print(num)"
   ]
  },
  {
   "cell_type": "code",
   "execution_count": 121,
   "id": "9dc49850",
   "metadata": {},
   "outputs": [],
   "source": [
    "armstrong(34)"
   ]
  },
  {
   "cell_type": "markdown",
   "id": "775e6a85",
   "metadata": {},
   "source": [
    "# EXERCICE 19"
   ]
  },
  {
   "cell_type": "code",
   "execution_count": 112,
   "id": "73421c65",
   "metadata": {},
   "outputs": [],
   "source": [
    "def parfait(a):\n",
    "    sa=0\n",
    "    for d in range(1,a):\n",
    "        if a%d==0:\n",
    "            sa=sa+d\n",
    "        if sa==a:\n",
    "            print(a,\" n'est parfait\")\n",
    "        else:\n",
    "            print(a,\"est pas parfait\")"
   ]
  },
  {
   "cell_type": "code",
   "execution_count": 113,
   "id": "c130afd4",
   "metadata": {},
   "outputs": [
    {
     "name": "stdout",
     "output_type": "stream",
     "text": [
      "6 est pas parfait\n",
      "6 est pas parfait\n",
      "6  n'est parfait\n",
      "6  n'est parfait\n",
      "6  n'est parfait\n"
     ]
    }
   ],
   "source": [
    "parfait(6)"
   ]
  },
  {
   "cell_type": "code",
   "execution_count": null,
   "id": "9c2d813b",
   "metadata": {},
   "outputs": [],
   "source": [
    "# EXERCICE 20"
   ]
  },
  {
   "cell_type": "code",
   "execution_count": 107,
   "id": "a58054dc",
   "metadata": {},
   "outputs": [],
   "source": [
    "def ppmc():\n",
    "    c=int (input(\"entrez un nombre: \"))\n",
    "    d=int(input(\"entrez un nombre:  \"))\n",
    "    multi=0\n",
    "    ppmc=0\n",
    "    if c>d:\n",
    "        ppmc==d\n",
    "    \n",
    "    else:\n",
    "        ppmc=c\n",
    "        multi=c*d\n",
    "        while i>=plus_grand:\n",
    "            if i%c==0 and i%d==0:\n",
    "                multi*=1\n",
    "                print(\"le ppmc de\",c,\"et\",d,\"est: \",multi)"
   ]
  },
  {
   "cell_type": "code",
   "execution_count": 111,
   "id": "8db81bf9",
   "metadata": {},
   "outputs": [
    {
     "name": "stdout",
     "output_type": "stream",
     "text": [
      "entrez un nombre: 12\n",
      "entrez un nombre:  6\n"
     ]
    }
   ],
   "source": [
    "ppmc()"
   ]
  },
  {
   "cell_type": "markdown",
   "id": "a1d8253c",
   "metadata": {},
   "source": [
    "# EXO 11"
   ]
  },
  {
   "cell_type": "code",
   "execution_count": 11,
   "id": "7b759378",
   "metadata": {},
   "outputs": [
    {
     "ename": "SyntaxError",
     "evalue": "invalid syntax (<ipython-input-11-4b8e78be8898>, line 5)",
     "output_type": "error",
     "traceback": [
      "\u001b[1;36m  File \u001b[1;32m\"<ipython-input-11-4b8e78be8898>\"\u001b[1;36m, line \u001b[1;32m5\u001b[0m\n\u001b[1;33m    while nd!=n and i<6=n:\u001b[0m\n\u001b[1;37m                       ^\u001b[0m\n\u001b[1;31mSyntaxError\u001b[0m\u001b[1;31m:\u001b[0m invalid syntax\n"
     ]
    }
   ],
   "source": [
    "from random import randint\n",
    "nd=randint(1,100)\n",
    "n=int(input(\"quel est le nombre\"))\n",
    "i=1\n",
    "while nd!=n and i<6=n:\n",
    "    n=int(input(\"quel est le nombre\"))\n",
    "    i=i+1\n",
    "    if nd>n:\n",
    "        print(('est trop petit'))\n",
    "    else:\n",
    "        print(('est trop grand'))\n",
    "if nd==n:\n",
    "                print('bravo vous avez trouvez le nombre')\n",
    "                print(\"le nombre d'essaiest,i\")\n",
    "else:\n",
    "                print(\"vous avez perdue !!!! le nombre est\",nd)"
   ]
  },
  {
   "cell_type": "markdown",
   "id": "436f3ede",
   "metadata": {},
   "source": [
    "# EXO 12"
   ]
  },
  {
   "cell_type": "code",
   "execution_count": 6,
   "id": "1f63dada",
   "metadata": {},
   "outputs": [
    {
     "name": "stdout",
     "output_type": "stream",
     "text": [
      "entrez un nombre: 15\n",
      "entrez un autre nombre: 25\n",
      "le pgcd est 5\n"
     ]
    }
   ],
   "source": [
    "a=int(input(\"entrez un nombre: \"))\n",
    "b=int(input(\"entrez un autre nombre: \"))\n",
    "while a!=b:\n",
    "    if a>b:\n",
    "        a,b=(a-b),a\n",
    "    else:\n",
    "            a,b=a,(b-a)\n",
    "print(\"le pgcd est\",a)"
   ]
  },
  {
   "cell_type": "markdown",
   "id": "d5201d83",
   "metadata": {},
   "source": [
    "# EXO 13"
   ]
  },
  {
   "cell_type": "code",
   "execution_count": 9,
   "id": "f43654f0",
   "metadata": {},
   "outputs": [
    {
     "name": "stdout",
     "output_type": "stream",
     "text": [
      "0  1  2  3  4  5  6  7  8  9  \n",
      "\n",
      "0  1  2  3  4  5  6  7  8  9  \n",
      "\n",
      "0  1  2  3  4  5  6  7  8  9  \n",
      "\n",
      "0  1  2  3  4  5  6  7  8  9  \n",
      "\n",
      "0  1  2  3  4  5  6  7  8  9  \n",
      "\n"
     ]
    }
   ],
   "source": [
    "for i in range(0,5):\n",
    "    for i in range(0,10):\n",
    "        print(i,end=\"  \")\n",
    "    print(\"\\n\")"
   ]
  },
  {
   "cell_type": "markdown",
   "id": "8fa0c9e7",
   "metadata": {},
   "source": [
    "# EXERCICE 14"
   ]
  },
  {
   "cell_type": "code",
   "execution_count": 17,
   "id": "9db1517c",
   "metadata": {},
   "outputs": [
    {
     "name": "stdout",
     "output_type": "stream",
     "text": [
      "entrez saisir un entier; 4578\n",
      "la somme des entiers saisis est :  24\n"
     ]
    }
   ],
   "source": [
    " n=input(\"entrez saisir un entier; \")\n",
    "somme=0\n",
    "for i in range(0,4):\n",
    "    somme+=int(n[i])\n",
    "print(\"la somme des entiers saisis est : \",somme)"
   ]
  },
  {
   "cell_type": "markdown",
   "id": "969ccd75",
   "metadata": {},
   "source": [
    "# EXERCICE 15 EN FONCTION"
   ]
  },
  {
   "cell_type": "code",
   "execution_count": 25,
   "id": "c78b1581",
   "metadata": {},
   "outputs": [],
   "source": [
    "def somme_carre():\n",
    "    somme=0\n",
    "    for i in range(2,10):\n",
    "        somme=somme+(i*i)\n",
    "        print('la somme est:' ,somme)"
   ]
  },
  {
   "cell_type": "code",
   "execution_count": 26,
   "id": "59c103b8",
   "metadata": {},
   "outputs": [
    {
     "name": "stdout",
     "output_type": "stream",
     "text": [
      "la somme est: 4\n",
      "la somme est: 13\n",
      "la somme est: 29\n",
      "la somme est: 54\n",
      "la somme est: 90\n",
      "la somme est: 139\n",
      "la somme est: 203\n",
      "la somme est: 284\n"
     ]
    }
   ],
   "source": [
    "somme_carre()"
   ]
  },
  {
   "cell_type": "markdown",
   "id": "509dc9d3",
   "metadata": {},
   "source": [
    "     # EXERCICE16 EN FONCTION"
   ]
  },
  {
   "cell_type": "code",
   "execution_count": 34,
   "id": "bf020f31",
   "metadata": {},
   "outputs": [
    {
     "name": "stdout",
     "output_type": "stream",
     "text": [
      "0\n",
      "7\n",
      "14\n",
      "21\n",
      "28\n",
      "35\n",
      "42\n",
      "49\n",
      "56\n",
      "63\n",
      "70\n",
      "77\n",
      "84\n",
      "91\n",
      "98\n",
      "105\n",
      "112\n",
      "119\n",
      "126\n",
      "133\n",
      "140\n",
      "147\n",
      "22\n"
     ]
    }
   ],
   "source": [
    "def division():\n",
    "    n=0\n",
    "    for i in range(150):\n",
    "        if i%7==0:\n",
    "            n=n+1\n",
    "            print(i)\n",
    "    return n\n",
    "print(division())"
   ]
  },
  {
   "cell_type": "markdown",
   "id": "2656270f",
   "metadata": {},
   "source": [
    "# EXERCICE 17 FONCTION"
   ]
  },
  {
   "cell_type": "code",
   "execution_count": 44,
   "id": "1df48472",
   "metadata": {},
   "outputs": [],
   "source": [
    "def carre ():\n",
    "    i=1\n",
    "    while i*i<=(1000):\n",
    "        i=i+1\n",
    "        print(i)"
   ]
  },
  {
   "cell_type": "code",
   "execution_count": 45,
   "id": "3aacee3e",
   "metadata": {},
   "outputs": [
    {
     "name": "stdout",
     "output_type": "stream",
     "text": [
      "2\n",
      "3\n",
      "4\n",
      "5\n",
      "6\n",
      "7\n",
      "8\n",
      "9\n",
      "10\n",
      "11\n",
      "12\n",
      "13\n",
      "14\n",
      "15\n",
      "16\n",
      "17\n",
      "18\n",
      "19\n",
      "20\n",
      "21\n",
      "22\n",
      "23\n",
      "24\n",
      "25\n",
      "26\n",
      "27\n",
      "28\n",
      "29\n",
      "30\n",
      "31\n",
      "32\n"
     ]
    }
   ],
   "source": [
    "carre()"
   ]
  },
  {
   "cell_type": "markdown",
   "id": "2f597108",
   "metadata": {},
   "source": [
    "# EXO 18"
   ]
  },
  {
   "cell_type": "code",
   "execution_count": 52,
   "id": "7c7784d4",
   "metadata": {},
   "outputs": [],
   "source": [
    "def armstrong(n):\n",
    "    c=n//100\n",
    "    d=n%100//10\n",
    "    u=n%100%10\n",
    "    if (c**3)+(d**3)+(u**3)==n:\n",
    "        return True\n",
    "    else:\n",
    "        return False\n",
    "    \n",
    "    "
   ]
  },
  {
   "cell_type": "code",
   "execution_count": 53,
   "id": "9cdd5dce",
   "metadata": {},
   "outputs": [
    {
     "data": {
      "text/plain": [
       "True"
      ]
     },
     "execution_count": 53,
     "metadata": {},
     "output_type": "execute_result"
    }
   ],
   "source": [
    "armstrong(153)"
   ]
  },
  {
   "cell_type": "markdown",
   "id": "ee92007a",
   "metadata": {},
   "source": [
    "# EXERCICE 19"
   ]
  },
  {
   "cell_type": "code",
   "execution_count": null,
   "id": "63f7319c",
   "metadata": {},
   "outputs": [],
   "source": [
    "def parfait(n):\n",
    "    for a in range(1,n+1):\n",
    "        sa=0\n",
    "        for i in range(1,a):\n",
    "            if a%i==0:\n",
    "            sa=sa+i\n",
    "            if sa==a:\n",
    "                print(a)\n",
    "                print(parfait)int(input(\"entrez \")"
   ]
  },
  {
   "cell_type": "markdown",
   "id": "c69587f7",
   "metadata": {},
   "source": []
  }
 ],
 "metadata": {
  "kernelspec": {
   "display_name": "Python 3",
   "language": "python",
   "name": "python3"
  },
  "language_info": {
   "codemirror_mode": {
    "name": "ipython",
    "version": 3
   },
   "file_extension": ".py",
   "mimetype": "text/x-python",
   "name": "python",
   "nbconvert_exporter": "python",
   "pygments_lexer": "ipython3",
   "version": "3.8.8"
  }
 },
 "nbformat": 4,
 "nbformat_minor": 5
}

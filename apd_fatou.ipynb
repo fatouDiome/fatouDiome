{
 "cells": [
  {
   "cell_type": "markdown",
   "id": "57db5cf0",
   "metadata": {},
   "source": [
    "# EXERCICE 1"
   ]
  },
  {
   "cell_type": "code",
   "execution_count": 2,
   "id": "a85538c3",
   "metadata": {},
   "outputs": [
    {
     "name": "stdout",
     "output_type": "stream",
     "text": [
      "entrez un nombre: f 12\n",
      "entrez un nombre: a 21\n",
      "entrez un nombre: t 23\n",
      "23 est le maximun\n"
     ]
    }
   ],
   "source": [
    "f=int(input('entrez un nombre: f '))\n",
    "a=int(input('entrez un nombre: a '))\n",
    "t=int(input('entrez un nombre: t '))\n",
    "if f>=a and f>=a:\n",
    "    print(f,'est le maximun')\n",
    "elif a>=f and a>=t:\n",
    "        print(a,'est le maximun')\n",
    "else:\n",
    "            print(t,'est le maximun')"
   ]
  },
  {
   "cell_type": "code",
   "execution_count": null,
   "id": "98fe8f45",
   "metadata": {},
   "outputs": [],
   "source": []
  },
  {
   "cell_type": "markdown",
   "id": "2d3451a8",
   "metadata": {},
   "source": [
    "# EXERCICE 2"
   ]
  },
  {
   "cell_type": "code",
   "execution_count": 2,
   "id": "d3427e97",
   "metadata": {
    "scrolled": true
   },
   "outputs": [
    {
     "name": "stdout",
     "output_type": "stream",
     "text": [
      "entrer une lettre: w\n",
      "w est une consonne\n"
     ]
    }
   ],
   "source": [
    "alphabet=(input('entrer une lettre: '))\n",
    "if alphabet in('a','o','u','e','i','y' or 'A','O','U','E','I','y'):\n",
    "    print(alphabet,'est une voyelle')\n",
    "else:\n",
    "        print(alphabet,'est une consonne')\n"
   ]
  },
  {
   "cell_type": "markdown",
   "id": "0252f276",
   "metadata": {},
   "source": [
    "# EXERCICE 3"
   ]
  },
  {
   "cell_type": "code",
   "execution_count": 42,
   "id": "e557b39d",
   "metadata": {},
   "outputs": [
    {
     "name": "stdout",
     "output_type": "stream",
     "text": [
      "donner le numero du jour:4\n",
      "jeudi\n"
     ]
    }
   ],
   "source": [
    "jour=int(input(\"donner le numero du jour:\"))\n",
    "if(jour==1):\n",
    "    print(\"lundi\")\n",
    "elif(jour==2):\n",
    "         print(\"mardi\")\n",
    "elif(jour==3):\n",
    "         print(\"mercredi\")\n",
    "elif(jour==4):\n",
    "         print(\"jeudi\")       \n",
    "elif(jour==5):\n",
    "         print(\"vendredi\")\n",
    "elif(jour==6):\n",
    "         print(\"samedi\") \n",
    "elif(jour==7):\n",
    "         print(\"dimanche\")\n",
    "else:\n",
    "    print(\"entrez n'existe pas ! entrez  le numero du jour entre 1 et 7\")"
   ]
  },
  {
   "cell_type": "markdown",
   "id": "f5b186ef",
   "metadata": {},
   "source": [
    "# EXERCICE 4"
   ]
  },
  {
   "cell_type": "code",
   "execution_count": 3,
   "id": "7855d039",
   "metadata": {},
   "outputs": [
    {
     "name": "stdout",
     "output_type": "stream",
     "text": [
      "entrez le prix de fabrication: fa 5600\n",
      "entrez le prix de vente: ve 18000\n",
      "5600 il ya profit\n"
     ]
    }
   ],
   "source": [
    "fa=int(input(\"entrez le prix de fabrication: fa \"))\n",
    "ve=int(input(\"entrez le prix de vente: ve \"))\n",
    "if fa<ve:\n",
    "    print(fa,\"il ya profit\")\n",
    "else:\n",
    "        print(ve,\"il ya perte\")"
   ]
  },
  {
   "cell_type": "markdown",
   "id": "b0d2b3fa",
   "metadata": {},
   "source": [
    "# EXERCICE 5"
   ]
  },
  {
   "cell_type": "code",
   "execution_count": 7,
   "id": "44047223",
   "metadata": {},
   "outputs": [
    {
     "name": "stdout",
     "output_type": "stream",
     "text": [
      "donner l annee a verifiee2012\n",
      "l annee est une annee bissextile!\n"
     ]
    }
   ],
   "source": [
    "annee=int(input('donner l annee a verifiee'))\n",
    "if(annee%4==0 and annee %100!=0 or annee%400==0):\n",
    "    print('l annee est une annee bissextile!')\n",
    "else:\n",
    "        print(\"l'annee n'est pas bissextile!\")"
   ]
  },
  {
   "cell_type": "markdown",
   "id": "35f11548",
   "metadata": {},
   "source": [
    "# EXERCICE 6"
   ]
  },
  {
   "cell_type": "code",
   "execution_count": 34,
   "id": "0360856e",
   "metadata": {},
   "outputs": [
    {
     "name": "stdout",
     "output_type": "stream",
     "text": [
      "entrez le nombre d'etoile:8\n",
      "*\n",
      "**\n",
      "***\n",
      "****\n",
      "*****\n",
      "******\n",
      "*******\n"
     ]
    }
   ],
   "source": [
    "a=int(input(\"entrez le nombre d'etoile:\"))\n",
    "for i in range(1,a):\n",
    "    print(i*\"*\")"
   ]
  },
  {
   "cell_type": "markdown",
   "id": "7feea949",
   "metadata": {},
   "source": [
    "# EXERCICE 7"
   ]
  },
  {
   "cell_type": "code",
   "execution_count": 12,
   "id": "3d24a1c6",
   "metadata": {},
   "outputs": [
    {
     "name": "stdout",
     "output_type": "stream",
     "text": [
      "le mot informatique possède 6 voyelles\n"
     ]
    }
   ],
   "source": [
    "f=\"informatique\"\n",
    "n=len(f)\n",
    "nbvoyelle=0\n",
    "for i in range(0,n):\n",
    "    if f[i] in ['i','o','e','a','u']:\n",
    "        nbvoyelle+=1\n",
    "print('le mot',f,'possède'"
   ]
  },
  {
   "cell_type": "markdown",
   "id": "6cecfead",
   "metadata": {},
   "source": [
    "# EXERCICE 8"
   ]
  },
  {
   "cell_type": "code",
   "execution_count": 10,
   "id": "12e14f5a",
   "metadata": {},
   "outputs": [
    {
     "name": "stdout",
     "output_type": "stream",
     "text": [
      "18\t17\t16\t15\t14\t13\t12\t11\t10\t9\t8\t7\t6\t5\t4\t3\t2\t1\t"
     ]
    }
   ],
   "source": [
    "c=1\n",
    "for i in range(18,0,-1):\n",
    "    print(i,end=\"\\t\")\n",
    "    if c%3==0:\n",
    "        print()\n",
    "        c+=1"
   ]
  },
  {
   "cell_type": "code",
   "execution_count": null,
   "id": "7c302125",
   "metadata": {},
   "outputs": [],
   "source": [
    "c=1\n",
    "for i in range(18,0,-1):\n",
    "    print(i,end=\"\\t\")\n",
    "    if c%3==0:\n",
    "        print()\n",
    "        c+=1"
   ]
  },
  {
   "cell_type": "code",
   "execution_count": null,
   "id": "e8238ae3",
   "metadata": {},
   "outputs": [],
   "source": []
  },
  {
   "cell_type": "markdown",
   "id": "b62c975f",
   "metadata": {},
   "source": [
    "# EXERCICE 9"
   ]
  },
  {
   "cell_type": "code",
   "execution_count": 25,
   "id": "09a7502b",
   "metadata": {},
   "outputs": [
    {
     "ename": "KeyboardInterrupt",
     "evalue": "Interrupted by user",
     "output_type": "error",
     "traceback": [
      "\u001b[1;31m---------------------------------------------------------------------------\u001b[0m",
      "\u001b[1;31mKeyboardInterrupt\u001b[0m                         Traceback (most recent call last)",
      "\u001b[1;32m<ipython-input-25-73fa306e3e8a>\u001b[0m in \u001b[0;36m<module>\u001b[1;34m\u001b[0m\n\u001b[0;32m      1\u001b[0m \u001b[0ms\u001b[0m\u001b[1;33m=\u001b[0m\u001b[1;36m0\u001b[0m\u001b[1;33m\u001b[0m\u001b[1;33m\u001b[0m\u001b[0m\n\u001b[0;32m      2\u001b[0m \u001b[1;32mfor\u001b[0m \u001b[0mi\u001b[0m \u001b[1;32min\u001b[0m \u001b[0mrange\u001b[0m\u001b[1;33m(\u001b[0m\u001b[1;36m1\u001b[0m\u001b[1;33m,\u001b[0m\u001b[1;36m11\u001b[0m\u001b[1;33m)\u001b[0m\u001b[1;33m:\u001b[0m\u001b[1;33m\u001b[0m\u001b[1;33m\u001b[0m\u001b[0m\n\u001b[1;32m----> 3\u001b[1;33m     \u001b[0mn\u001b[0m\u001b[1;33m=\u001b[0m\u001b[0mint\u001b[0m\u001b[1;33m(\u001b[0m\u001b[0minput\u001b[0m\u001b[1;33m(\u001b[0m\u001b[1;34m\"entrez une note\"\u001b[0m\u001b[1;33m)\u001b[0m\u001b[1;33m)\u001b[0m\u001b[1;33m\u001b[0m\u001b[1;33m\u001b[0m\u001b[0m\n\u001b[0m\u001b[0;32m      4\u001b[0m     \u001b[0ms\u001b[0m\u001b[1;33m=\u001b[0m\u001b[0ms\u001b[0m\u001b[1;33m+\u001b[0m\u001b[0mn\u001b[0m\u001b[1;33m\u001b[0m\u001b[1;33m\u001b[0m\u001b[0m\n\u001b[0;32m      5\u001b[0m     \u001b[1;32mif\u001b[0m \u001b[0mn_min\u001b[0m\u001b[1;33m<=\u001b[0m\u001b[0mn\u001b[0m\u001b[1;33m:\u001b[0m\u001b[1;33m\u001b[0m\u001b[1;33m\u001b[0m\u001b[0m\n",
      "\u001b[1;32m~\\OneDrive\\anaconda\\lib\\site-packages\\ipykernel\\kernelbase.py\u001b[0m in \u001b[0;36mraw_input\u001b[1;34m(self, prompt)\u001b[0m\n\u001b[0;32m    858\u001b[0m                 \u001b[1;34m\"raw_input was called, but this frontend does not support input requests.\"\u001b[0m\u001b[1;33m\u001b[0m\u001b[1;33m\u001b[0m\u001b[0m\n\u001b[0;32m    859\u001b[0m             )\n\u001b[1;32m--> 860\u001b[1;33m         return self._input_request(str(prompt),\n\u001b[0m\u001b[0;32m    861\u001b[0m             \u001b[0mself\u001b[0m\u001b[1;33m.\u001b[0m\u001b[0m_parent_ident\u001b[0m\u001b[1;33m,\u001b[0m\u001b[1;33m\u001b[0m\u001b[1;33m\u001b[0m\u001b[0m\n\u001b[0;32m    862\u001b[0m             \u001b[0mself\u001b[0m\u001b[1;33m.\u001b[0m\u001b[0m_parent_header\u001b[0m\u001b[1;33m,\u001b[0m\u001b[1;33m\u001b[0m\u001b[1;33m\u001b[0m\u001b[0m\n",
      "\u001b[1;32m~\\OneDrive\\anaconda\\lib\\site-packages\\ipykernel\\kernelbase.py\u001b[0m in \u001b[0;36m_input_request\u001b[1;34m(self, prompt, ident, parent, password)\u001b[0m\n\u001b[0;32m    902\u001b[0m             \u001b[1;32mexcept\u001b[0m \u001b[0mKeyboardInterrupt\u001b[0m\u001b[1;33m:\u001b[0m\u001b[1;33m\u001b[0m\u001b[1;33m\u001b[0m\u001b[0m\n\u001b[0;32m    903\u001b[0m                 \u001b[1;31m# re-raise KeyboardInterrupt, to truncate traceback\u001b[0m\u001b[1;33m\u001b[0m\u001b[1;33m\u001b[0m\u001b[1;33m\u001b[0m\u001b[0m\n\u001b[1;32m--> 904\u001b[1;33m                 \u001b[1;32mraise\u001b[0m \u001b[0mKeyboardInterrupt\u001b[0m\u001b[1;33m(\u001b[0m\u001b[1;34m\"Interrupted by user\"\u001b[0m\u001b[1;33m)\u001b[0m \u001b[1;32mfrom\u001b[0m \u001b[1;32mNone\u001b[0m\u001b[1;33m\u001b[0m\u001b[1;33m\u001b[0m\u001b[0m\n\u001b[0m\u001b[0;32m    905\u001b[0m             \u001b[1;32mexcept\u001b[0m \u001b[0mException\u001b[0m \u001b[1;32mas\u001b[0m \u001b[0me\u001b[0m\u001b[1;33m:\u001b[0m\u001b[1;33m\u001b[0m\u001b[1;33m\u001b[0m\u001b[0m\n\u001b[0;32m    906\u001b[0m                 \u001b[0mself\u001b[0m\u001b[1;33m.\u001b[0m\u001b[0mlog\u001b[0m\u001b[1;33m.\u001b[0m\u001b[0mwarning\u001b[0m\u001b[1;33m(\u001b[0m\u001b[1;34m\"Invalid Message:\"\u001b[0m\u001b[1;33m,\u001b[0m \u001b[0mexc_info\u001b[0m\u001b[1;33m=\u001b[0m\u001b[1;32mTrue\u001b[0m\u001b[1;33m)\u001b[0m\u001b[1;33m\u001b[0m\u001b[1;33m\u001b[0m\u001b[0m\n",
      "\u001b[1;31mKeyboardInterrupt\u001b[0m: Interrupted by user"
     ]
    }
   ],
   "source": []
  },
  {
   "cell_type": "markdown",
   "id": "d9bccdf8",
   "metadata": {},
   "source": []
  },
  {
   "cell_type": "markdown",
   "id": "7cd63629",
   "metadata": {},
   "source": [
    "# EXERCICE 10"
   ]
  },
  {
   "cell_type": "code",
   "execution_count": 26,
   "id": "592fe1ee",
   "metadata": {},
   "outputs": [
    {
     "name": "stdout",
     "output_type": "stream",
     "text": [
      "bonjour\n",
      "repond:salut\n",
      "est tu adulte\n",
      "repond: non\n"
     ]
    }
   ],
   "source": [
    "print(\"bonjour\")\n",
    "input(\"repond:\")\n",
    "print(\"est tu adulte\")\n",
    "a=input(\"repond: \")\n",
    "if a!=\"oui\" and a!=\"non\":\n",
    "    print(\"repondez par oui ou non please\")\n",
    "    print(\"au revoir\")"
   ]
  },
  {
   "cell_type": "code",
   "execution_count": null,
   "id": "afead9f2",
   "metadata": {},
   "outputs": [],
   "source": []
  },
  {
   "cell_type": "markdown",
   "id": "0360d06b",
   "metadata": {},
   "source": [
    "# EXERCICE 11"
   ]
  },
  {
   "cell_type": "code",
   "execution_count": 24,
   "id": "2a467ed9",
   "metadata": {},
   "outputs": [
    {
     "name": "stdout",
     "output_type": "stream",
     "text": [
      "entrez un nombre: 10\n",
      "tres petit!\n",
      "entrez un nombre: 50\n",
      "c'est moins!\n",
      "entrez un nombre: 30\n",
      "tres petit!\n",
      "entrez un nombre: 40\n",
      "tres petit!\n",
      "entrez un nombre: 45\n",
      "tres petit!\n",
      "plus grand\n"
     ]
    }
   ],
   "source": []
  },
  {
   "cell_type": "code",
   "execution_count": null,
   "id": "271b0242",
   "metadata": {},
   "outputs": [],
   "source": []
  },
  {
   "cell_type": "markdown",
   "id": "d0966640",
   "metadata": {},
   "source": [
    "### EXERCICE 12"
   ]
  },
  {
   "cell_type": "code",
   "execution_count": 64,
   "id": "cf224636",
   "metadata": {},
   "outputs": [
    {
     "name": "stdout",
     "output_type": "stream",
     "text": [
      "entrez un nombre:a 141\n",
      "entrez un nombre:b 255\n",
      "le PGDC de 141 et 255 est: 1\n",
      "le PGDC de 141 et 255 est: 3\n"
     ]
    }
   ],
   "source": []
  },
  {
   "cell_type": "markdown",
   "id": "73fb472d",
   "metadata": {},
   "source": [
    "# EXERCICE 13"
   ]
  },
  {
   "cell_type": "code",
   "execution_count": 79,
   "id": "42e81ca1",
   "metadata": {},
   "outputs": [
    {
     "name": "stdout",
     "output_type": "stream",
     "text": [
      "0    0    1    2    3    4    5    6    7    8    9    \n",
      "1    0    1    2    3    4    5    6    7    8    9    \n",
      "2    0    1    2    3    4    5    6    7    8    9    \n",
      "3    0    1    2    3    4    5    6    7    8    9    \n",
      "4    0    1    2    3    4    5    6    7    8    9    \n",
      "5    0    1    2    3    4    5    6    7    8    9    \n",
      "6    0    1    2    3    4    5    6    7    8    9    \n",
      "7    0    1    2    3    4    5    6    7    8    9    \n",
      "8    0    1    2    3    4    5    6    7    8    9    \n",
      "9    0    1    2    3    4    5    6    7    8    9    \n"
     ]
    }
   ],
   "source": []
  },
  {
   "cell_type": "code",
   "execution_count": null,
   "id": "897cf6a3",
   "metadata": {},
   "outputs": [],
   "source": []
  },
  {
   "cell_type": "markdown",
   "id": "5e209518",
   "metadata": {},
   "source": [
    "# EXERCICE 14"
   ]
  },
  {
   "cell_type": "code",
   "execution_count": 2,
   "id": "b8ee793e",
   "metadata": {},
   "outputs": [],
   "source": [
    "def somme(a,b,c,d):\n",
    "    s=a+b+c+d\n",
    "    return(s)"
   ]
  },
  {
   "cell_type": "code",
   "execution_count": 1,
   "id": "a95809e6",
   "metadata": {},
   "outputs": [
    {
     "ename": "NameError",
     "evalue": "name 'somme' is not defined",
     "output_type": "error",
     "traceback": [
      "\u001b[1;31m---------------------------------------------------------------------------\u001b[0m",
      "\u001b[1;31mNameError\u001b[0m                                 Traceback (most recent call last)",
      "\u001b[1;32m<ipython-input-1-4000c091f693>\u001b[0m in \u001b[0;36m<module>\u001b[1;34m\u001b[0m\n\u001b[1;32m----> 1\u001b[1;33m \u001b[0msomme\u001b[0m\u001b[1;33m(\u001b[0m\u001b[1;36m12\u001b[0m\u001b[1;33m,\u001b[0m\u001b[1;36m2\u001b[0m\u001b[1;33m,\u001b[0m\u001b[1;36m4\u001b[0m\u001b[1;33m,\u001b[0m\u001b[1;36m6\u001b[0m\u001b[1;33m)\u001b[0m\u001b[1;33m\u001b[0m\u001b[1;33m\u001b[0m\u001b[0m\n\u001b[0m",
      "\u001b[1;31mNameError\u001b[0m: name 'somme' is not defined"
     ]
    }
   ],
   "source": [
    "somme()"
   ]
  },
  {
   "cell_type": "markdown",
   "id": "f8530024",
   "metadata": {},
   "source": [
    "## EXERCICE 15"
   ]
  },
  {
   "cell_type": "code",
   "execution_count": 41,
   "id": "a993015a",
   "metadata": {},
   "outputs": [
    {
     "name": "stdout",
     "output_type": "stream",
     "text": [
      "1 son carre est 1\n",
      "2 son carre est 4\n",
      "3 son carre est 9\n",
      "4 son carre est 16\n",
      "5 son carre est 25\n",
      "6 son carre est 36\n",
      "7 son carre est 49\n",
      "8 son carre est 64\n",
      "9 son carre est 81\n",
      "285 la somme des carres des nombres compris entre 1 et 10\n"
     ]
    }
   ],
   "source": []
  },
  {
   "cell_type": "code",
   "execution_count": null,
   "id": "821fda41",
   "metadata": {},
   "outputs": [],
   "source": []
  },
  {
   "cell_type": "markdown",
   "id": "5847fbea",
   "metadata": {},
   "source": [
    "# EXERCICE 16"
   ]
  },
  {
   "cell_type": "code",
   "execution_count": 13,
   "id": "a80c0b57",
   "metadata": {},
   "outputs": [
    {
     "name": "stdout",
     "output_type": "stream",
     "text": [
      "7\n",
      "14\n",
      "21\n",
      "28\n",
      "35\n",
      "42\n",
      "49\n",
      "56\n",
      "63\n",
      "70\n",
      "77\n",
      "84\n",
      "91\n",
      "98\n",
      "105\n",
      "112\n",
      "119\n",
      "126\n",
      "133\n",
      "140\n",
      "147\n"
     ]
    }
   ],
   "source": []
  },
  {
   "cell_type": "markdown",
   "id": "0c76eab6",
   "metadata": {},
   "source": [
    "# EXERCICE 17"
   ]
  },
  {
   "cell_type": "code",
   "execution_count": 91,
   "id": "9660ace7",
   "metadata": {},
   "outputs": [
    {
     "name": "stdout",
     "output_type": "stream",
     "text": [
      "49\n"
     ]
    }
   ],
   "source": []
  },
  {
   "cell_type": "code",
   "execution_count": null,
   "id": "17c9bfc8",
   "metadata": {},
   "outputs": [],
   "source": []
  },
  {
   "cell_type": "markdown",
   "id": "476e25e8",
   "metadata": {},
   "source": [
    "# EXERCICE 18"
   ]
  },
  {
   "cell_type": "code",
   "execution_count": 89,
   "id": "f25f7313",
   "metadata": {},
   "outputs": [],
   "source": [
    "\n",
    "\n"
   ]
  },
  {
   "cell_type": "code",
   "execution_count": null,
   "id": "5bf85004",
   "metadata": {},
   "outputs": [],
   "source": []
  },
  {
   "cell_type": "markdown",
   "id": "53ba6629",
   "metadata": {},
   "source": [
    "# EXERCICE 19"
   ]
  },
  {
   "cell_type": "code",
   "execution_count": 86,
   "id": "320712bd",
   "metadata": {},
   "outputs": [
    {
     "name": "stdout",
     "output_type": "stream",
     "text": [
      "entrez un nombre11\n",
      "11 n'est pas parfait\n"
     ]
    }
   ],
   "source": []
  },
  {
   "cell_type": "markdown",
   "id": "f8f4e20c",
   "metadata": {},
   "source": [
    "# EXERCICE 20"
   ]
  },
  {
   "cell_type": "code",
   "execution_count": null,
   "id": "91332fbb",
   "metadata": {},
   "outputs": [],
   "source": []
  },
  {
   "cell_type": "code",
   "execution_count": null,
   "id": "9f0e1f82",
   "metadata": {},
   "outputs": [],
   "source": []
  },
  {
   "cell_type": "code",
   "execution_count": null,
   "id": "d88107b9",
   "metadata": {},
   "outputs": [],
   "source": [
    "while True:\n",
    "    qestion=input(\"est ce que vous etes adulte: \")\n",
    "if question!='oui' and question!='non':\n",
    "    print(\"veillez tapez oui ou non\")\n",
    "else:\n",
    "        break\n",
    "print('au revoir')"
   ]
  },
  {
   "cell_type": "code",
   "execution_count": null,
   "id": "ebaba10e",
   "metadata": {
    "collapsed": true
   },
   "outputs": [],
   "source": []
  }
 ],
 "metadata": {
  "kernelspec": {
   "display_name": "Python 3",
   "language": "python",
   "name": "python3"
  },
  "language_info": {
   "codemirror_mode": {
    "name": "ipython",
    "version": 3
   },
   "file_extension": ".py",
   "mimetype": "text/x-python",
   "name": "python",
   "nbconvert_exporter": "python",
   "pygments_lexer": "ipython3",
   "version": "3.8.8"
  }
 },
 "nbformat": 4,
 "nbformat_minor": 5
}
